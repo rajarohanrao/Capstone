{
 "cells": [
  {
   "cell_type": "code",
   "execution_count": 1,
   "metadata": {},
   "outputs": [],
   "source": [
    "import pandas as pd\n",
    "import numpy as np\n",
    "import matplotlib.pyplot as plt"
   ]
  },
  {
   "cell_type": "code",
   "execution_count": 2,
   "metadata": {},
   "outputs": [],
   "source": [
    "from sklearn.linear_model import LinearRegression\n",
    "from sklearn.linear_model import LogisticRegression"
   ]
  },
  {
   "cell_type": "code",
   "execution_count": 3,
   "metadata": {},
   "outputs": [],
   "source": [
    "bike = pd.read_csv (\"TEST.csv\")"
   ]
  },
  {
   "cell_type": "code",
   "execution_count": 4,
   "metadata": {},
   "outputs": [
    {
     "data": {
      "text/html": [
       "<div>\n",
       "<style scoped>\n",
       "    .dataframe tbody tr th:only-of-type {\n",
       "        vertical-align: middle;\n",
       "    }\n",
       "\n",
       "    .dataframe tbody tr th {\n",
       "        vertical-align: top;\n",
       "    }\n",
       "\n",
       "    .dataframe thead th {\n",
       "        text-align: right;\n",
       "    }\n",
       "</style>\n",
       "<table border=\"1\" class=\"dataframe\">\n",
       "  <thead>\n",
       "    <tr style=\"text-align: right;\">\n",
       "      <th></th>\n",
       "      <th>wkday_ct</th>\n",
       "      <th>wkend_ct</th>\n",
       "      <th>TrafDir</th>\n",
       "      <th>BikeInfra</th>\n",
       "      <th>SegNum</th>\n",
       "      <th>StLength</th>\n",
       "      <th>Rd_Wd</th>\n",
       "      <th>Pop_Den</th>\n",
       "      <th>AMI</th>\n",
       "      <th>pct_CR</th>\n",
       "      <th>pct_IM</th>\n",
       "      <th>pct_M</th>\n",
       "      <th>pct_OS</th>\n",
       "      <th>pct_R</th>\n",
       "      <th>pct_U</th>\n",
       "      <th>Prox</th>\n",
       "    </tr>\n",
       "  </thead>\n",
       "  <tbody>\n",
       "    <tr>\n",
       "      <th>0</th>\n",
       "      <td>139</td>\n",
       "      <td>120</td>\n",
       "      <td>0</td>\n",
       "      <td>0</td>\n",
       "      <td>30</td>\n",
       "      <td>10891</td>\n",
       "      <td>60</td>\n",
       "      <td>17.08</td>\n",
       "      <td>129806.0</td>\n",
       "      <td>0.03</td>\n",
       "      <td>0.12</td>\n",
       "      <td>0.15</td>\n",
       "      <td>0.04</td>\n",
       "      <td>0.24</td>\n",
       "      <td>0.42</td>\n",
       "      <td>5981</td>\n",
       "    </tr>\n",
       "    <tr>\n",
       "      <th>1</th>\n",
       "      <td>95</td>\n",
       "      <td>73</td>\n",
       "      <td>0</td>\n",
       "      <td>0</td>\n",
       "      <td>20</td>\n",
       "      <td>7364</td>\n",
       "      <td>60</td>\n",
       "      <td>9.05</td>\n",
       "      <td>117379.5</td>\n",
       "      <td>0.04</td>\n",
       "      <td>0.34</td>\n",
       "      <td>0.09</td>\n",
       "      <td>0.16</td>\n",
       "      <td>0.12</td>\n",
       "      <td>0.26</td>\n",
       "      <td>4549</td>\n",
       "    </tr>\n",
       "    <tr>\n",
       "      <th>2</th>\n",
       "      <td>24</td>\n",
       "      <td>12</td>\n",
       "      <td>0</td>\n",
       "      <td>0</td>\n",
       "      <td>9</td>\n",
       "      <td>2792</td>\n",
       "      <td>60</td>\n",
       "      <td>3.43</td>\n",
       "      <td>123250.0</td>\n",
       "      <td>0.29</td>\n",
       "      <td>0.01</td>\n",
       "      <td>0.28</td>\n",
       "      <td>0.00</td>\n",
       "      <td>0.00</td>\n",
       "      <td>0.41</td>\n",
       "      <td>2058</td>\n",
       "    </tr>\n",
       "    <tr>\n",
       "      <th>3</th>\n",
       "      <td>873</td>\n",
       "      <td>566</td>\n",
       "      <td>1</td>\n",
       "      <td>1</td>\n",
       "      <td>79</td>\n",
       "      <td>18112</td>\n",
       "      <td>75</td>\n",
       "      <td>8.00</td>\n",
       "      <td>33863.5</td>\n",
       "      <td>0.00</td>\n",
       "      <td>0.49</td>\n",
       "      <td>0.01</td>\n",
       "      <td>0.00</td>\n",
       "      <td>0.00</td>\n",
       "      <td>0.51</td>\n",
       "      <td>3854</td>\n",
       "    </tr>\n",
       "    <tr>\n",
       "      <th>4</th>\n",
       "      <td>1385</td>\n",
       "      <td>1303</td>\n",
       "      <td>1</td>\n",
       "      <td>0</td>\n",
       "      <td>145</td>\n",
       "      <td>24855</td>\n",
       "      <td>80</td>\n",
       "      <td>17.28</td>\n",
       "      <td>67085.0</td>\n",
       "      <td>0.57</td>\n",
       "      <td>0.00</td>\n",
       "      <td>0.10</td>\n",
       "      <td>0.00</td>\n",
       "      <td>0.01</td>\n",
       "      <td>0.33</td>\n",
       "      <td>1092</td>\n",
       "    </tr>\n",
       "  </tbody>\n",
       "</table>\n",
       "</div>"
      ],
      "text/plain": [
       "   wkday_ct  wkend_ct  TrafDir  BikeInfra  SegNum  StLength  Rd_Wd  Pop_Den  \\\n",
       "0       139       120        0          0      30     10891     60    17.08   \n",
       "1        95        73        0          0      20      7364     60     9.05   \n",
       "2        24        12        0          0       9      2792     60     3.43   \n",
       "3       873       566        1          1      79     18112     75     8.00   \n",
       "4      1385      1303        1          0     145     24855     80    17.28   \n",
       "\n",
       "        AMI  pct_CR  pct_IM  pct_M  pct_OS  pct_R  pct_U  Prox  \n",
       "0  129806.0    0.03    0.12   0.15    0.04   0.24   0.42  5981  \n",
       "1  117379.5    0.04    0.34   0.09    0.16   0.12   0.26  4549  \n",
       "2  123250.0    0.29    0.01   0.28    0.00   0.00   0.41  2058  \n",
       "3   33863.5    0.00    0.49   0.01    0.00   0.00   0.51  3854  \n",
       "4   67085.0    0.57    0.00   0.10    0.00   0.01   0.33  1092  "
      ]
     },
     "execution_count": 4,
     "metadata": {},
     "output_type": "execute_result"
    }
   ],
   "source": [
    "bike.head()"
   ]
  },
  {
   "cell_type": "code",
   "execution_count": 5,
   "metadata": {},
   "outputs": [],
   "source": [
    "from sklearn.model_selection import train_test_split"
   ]
  },
  {
   "cell_type": "code",
   "execution_count": 6,
   "metadata": {},
   "outputs": [],
   "source": [
    "X = np.asarray(bike[['SegNum', 'BikeInfra']])\n",
    "Y = np.asarray(bike['wkday_ct'])"
   ]
  },
  {
   "cell_type": "code",
   "execution_count": 7,
   "metadata": {},
   "outputs": [],
   "source": [
    "X_train, X_test, y_train, y_test = train_test_split(X, Y, test_size=0.7, shuffle= True)"
   ]
  },
  {
   "cell_type": "code",
   "execution_count": 8,
   "metadata": {},
   "outputs": [],
   "source": [
    "lineReg = LinearRegression()"
   ]
  },
  {
   "cell_type": "code",
   "execution_count": 9,
   "metadata": {},
   "outputs": [
    {
     "data": {
      "text/plain": [
       "LinearRegression(copy_X=True, fit_intercept=True, n_jobs=1, normalize=False)"
      ]
     },
     "execution_count": 9,
     "metadata": {},
     "output_type": "execute_result"
    }
   ],
   "source": [
    "lineReg.fit(X,Y)"
   ]
  },
  {
   "cell_type": "code",
   "execution_count": 10,
   "metadata": {},
   "outputs": [
    {
     "name": "stdout",
     "output_type": "stream",
     "text": [
      "Intercept:  0.20667928687165316\n",
      "Coefficients:  [  1.35313392 207.94836443]\n"
     ]
    }
   ],
   "source": [
    "print('Intercept: ', lineReg.score(X, Y))\n",
    "print('Coefficients: ', lineReg.coef_)"
   ]
  },
  {
   "cell_type": "code",
   "execution_count": 11,
   "metadata": {},
   "outputs": [],
   "source": [
    "results = lineReg.fit(X_train, y_train)"
   ]
  },
  {
   "cell_type": "code",
   "execution_count": 12,
   "metadata": {},
   "outputs": [
    {
     "name": "stdout",
     "output_type": "stream",
     "text": [
      "Intercept:  0.06951069607982252\n",
      "Coefficients:  [  1.35722498 337.42118782]\n"
     ]
    }
   ],
   "source": [
    "print('Intercept: ', lineReg.score(X_test, y_test))\n",
    "print('Coefficients: ', lineReg.coef_)"
   ]
  },
  {
   "cell_type": "code",
   "execution_count": 13,
   "metadata": {},
   "outputs": [
    {
     "data": {
      "text/plain": [
       "0.4059457741364151"
      ]
     },
     "execution_count": 13,
     "metadata": {},
     "output_type": "execute_result"
    }
   ],
   "source": [
    "lineReg.score(X_train,y_train)"
   ]
  },
  {
   "cell_type": "code",
   "execution_count": 14,
   "metadata": {},
   "outputs": [
    {
     "data": {
      "image/png": "[encoded data removed]",
      "text/plain": [
       "<Figure size 432x288 with 1 Axes>"
      ]
     },
     "metadata": {
      "needs_background": "light"
     },
     "output_type": "display_data"
    }
   ],
   "source": [
    "plt.plot(lineReg.predict(X_test), c= 'red', label = 'Predicted Counts' )\n",
    "plt.plot(y_test, c= 'green')\n",
    "plt.show()"
   ]
  },
  {
   "cell_type": "code",
   "execution_count": 15,
   "metadata": {},
   "outputs": [
    {
     "name": "stdout",
     "output_type": "stream",
     "text": [
      "[ 72.72844878 139.23247292  56.44174899 167.73419755 220.66597187\n",
      " 220.66597187 109.37352331  80.87179868 163.66252261 101.23017341\n",
      "  64.58509889 287.16999601 122.94577313  55.08452401 399.81966955\n",
      " 287.16999601  79.51457369 120.23132317  97.15849847 238.30989664\n",
      " 144.66137285  65.94232387 160.94807264 139.23247292  57.79897397\n",
      "  70.01399882 122.94577313 208.45094703 445.43748615  79.51457369\n",
      " 560.80160966 235.59544668 547.22935983 105.30184836 430.50801134\n",
      " 120.23132317 124.30299811 376.74684485  71.3712238  479.89594352\n",
      " 208.45094703 144.66137285 129.73189804 266.81162127 122.94577313\n",
      "  83.58624864 266.81162127 503.79816039 242.38157159 121.58854815\n",
      "  72.72844878  59.15619896 511.94151029 109.37352331 209.80817201\n",
      "  89.01514857 552.65825976 418.82081931 227.45209678 147.37582282\n",
      " 444.08026116  86.30069861 143.30414787 177.23477243  98.51572345\n",
      " 430.50801134 220.66597187 122.94577313]\n"
     ]
    }
   ],
   "source": [
    "print (lineReg.predict(X_test))"
   ]
  },
  {
   "cell_type": "markdown",
   "metadata": {},
   "source": [
    "# Ridge Regression"
   ]
  },
  {
   "cell_type": "code",
   "execution_count": 16,
   "metadata": {},
   "outputs": [],
   "source": [
    "from sklearn import linear_model\n",
    "reg = linear_model.Ridge (alpha = 0.05)\n"
   ]
  },
  {
   "cell_type": "code",
   "execution_count": 17,
   "metadata": {},
   "outputs": [
    {
     "name": "stdout",
     "output_type": "stream",
     "text": [
      "Intercept:  0.07228760209219198\n",
      "Coefficients:  [  1.36146475 333.2080185 ]\n"
     ]
    }
   ],
   "source": [
    "reg.fit(X_train, y_train)\n",
    "print('Intercept: ', reg.score(X_test, y_test))\n",
    "print('Coefficients: ', reg.coef_)\n"
   ]
  },
  {
   "cell_type": "code",
   "execution_count": 18,
   "metadata": {},
   "outputs": [
    {
     "data": {
      "text/plain": [
       "0.4059135604736419"
      ]
     },
     "execution_count": 18,
     "metadata": {},
     "output_type": "execute_result"
    }
   ],
   "source": [
    "reg.score(X_train,y_train)"
   ]
  },
  {
   "cell_type": "code",
   "execution_count": 19,
   "metadata": {},
   "outputs": [
    {
     "data": {
      "image/png": "[encoded data removed]",
      "text/plain": [
       "<Figure size 432x288 with 1 Axes>"
      ]
     },
     "metadata": {
      "needs_background": "light"
     },
     "output_type": "display_data"
    }
   ],
   "source": [
    "plt.plot(reg.predict(X_test), c= 'red', label = 'Predicted Counts')\n",
    "plt.plot(y_test, c= 'green')\n",
    "plt.show()"
   ]
  },
  {
   "cell_type": "markdown",
   "metadata": {},
   "source": [
    "# Lasso Regression"
   ]
  },
  {
   "cell_type": "code",
   "execution_count": 20,
   "metadata": {},
   "outputs": [],
   "source": [
    "from sklearn import linear_model\n",
    "lasso = linear_model.Lasso (alpha = 0.05)\n"
   ]
  },
  {
   "cell_type": "code",
   "execution_count": 21,
   "metadata": {},
   "outputs": [
    {
     "data": {
      "text/plain": [
       "Lasso(alpha=0.05, copy_X=True, fit_intercept=True, max_iter=1000,\n",
       "   normalize=False, positive=False, precompute=False, random_state=None,\n",
       "   selection='cyclic', tol=0.0001, warm_start=False)"
      ]
     },
     "execution_count": 21,
     "metadata": {},
     "output_type": "execute_result"
    }
   ],
   "source": [
    "lasso.fit(X,Y)\n"
   ]
  },
  {
   "cell_type": "code",
   "execution_count": 22,
   "metadata": {},
   "outputs": [
    {
     "data": {
      "text/plain": [
       "0.37401826775611136"
      ]
     },
     "execution_count": 22,
     "metadata": {},
     "output_type": "execute_result"
    }
   ],
   "source": [
    "lasso.score(X_train,y_train)"
   ]
  },
  {
   "cell_type": "code",
   "execution_count": 23,
   "metadata": {},
   "outputs": [
    {
     "name": "stdout",
     "output_type": "stream",
     "text": [
      "Intercept:  0.12836118904373528\n",
      "Coefficients:  [  1.35323033 207.54600386]\n"
     ]
    }
   ],
   "source": [
    "print('Intercept: ', lasso.score(X_test, y_test))\n",
    "print('Coefficients: ', lasso.coef_)\n"
   ]
  },
  {
   "cell_type": "code",
   "execution_count": 24,
   "metadata": {},
   "outputs": [
    {
     "data": {
      "image/png": "[encoded data removed]",
      "text/plain": [
       "<Figure size 432x288 with 1 Axes>"
      ]
     },
     "metadata": {
      "needs_background": "light"
     },
     "output_type": "display_data"
    }
   ],
   "source": [
    "plt.plot(lasso.predict(X_test), c= 'red', label = 'Predicted Counts')\n",
    "plt.plot(y_test, c= 'green')\n",
    "plt.show()"
   ]
  },
  {
   "cell_type": "markdown",
   "metadata": {},
   "source": [
    "# Checking with 1000 iterations"
   ]
  },
  {
   "cell_type": "code",
   "execution_count": 25,
   "metadata": {},
   "outputs": [
    {
     "name": "stdout",
     "output_type": "stream",
     "text": [
      "Linear Regression\n",
      "-0.054493075413398005\n",
      "[  1.38126768 205.48076045]\n"
     ]
    }
   ],
   "source": [
    "Intercept = []\n",
    "coefs = []\n",
    "for i in range(1000):\n",
    "    X_train, X_test, y_train, y_test = train_test_split(X, Y, test_size=0.33, shuffle= True)\n",
    "    lineReg = LinearRegression()\n",
    "    lineReg.fit(X_train, y_train)\n",
    "    Intercept.append(lineReg.score(X_test, y_test))\n",
    "    coefs.append(lineReg.coef_)\n",
    "print('Linear Regression')\n",
    "print(np.mean(Intercept))\n",
    "print(np.mean(coefs, axis=0))\n"
   ]
  },
  {
   "cell_type": "code",
   "execution_count": 26,
   "metadata": {},
   "outputs": [
    {
     "name": "stdout",
     "output_type": "stream",
     "text": [
      "\n",
      "Ridge Regression\n",
      "-0.04873505108749588\n",
      "[  1.38953059 205.60958062]\n"
     ]
    }
   ],
   "source": [
    "\n",
    "Intercept = []\n",
    "coefs = []\n",
    "for i in range(1000):\n",
    "    X_train, X_test, y_train, y_test = train_test_split(X, Y, test_size=0.33, shuffle= True)\n",
    "    lineReg = linear_model.Ridge (alpha = 0.05)\n",
    "    lineReg.fit(X_train, y_train)\n",
    "    Intercept.append(lineReg.score(X_test, y_test))\n",
    "    coefs.append(lineReg.coef_)\n",
    "print('\\nRidge Regression')\n",
    "print(np.mean(Intercept))\n",
    "print(np.mean(coefs, axis=0))"
   ]
  },
  {
   "cell_type": "code",
   "execution_count": null,
   "metadata": {},
   "outputs": [],
   "source": []
  }
 ],
 "metadata": {
  "kernelspec": {
   "display_name": "Python 3",
   "language": "python",
   "name": "python3"
  },
  "language_info": {
   "codemirror_mode": {
    "name": "ipython",
    "version": 3
   },
   "file_extension": ".py",
   "mimetype": "text/x-python",
   "name": "python",
   "nbconvert_exporter": "python",
   "pygments_lexer": "ipython3",
   "version": "3.7.0"
  }
 },
 "nbformat": 4,
 "nbformat_minor": 2
}
