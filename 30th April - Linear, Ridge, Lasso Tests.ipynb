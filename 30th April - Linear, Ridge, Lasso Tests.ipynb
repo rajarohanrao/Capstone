{
 "cells": [
  {
   "cell_type": "code",
   "execution_count": 1,
   "metadata": {},
   "outputs": [],
   "source": [
    "import pandas as pd\n",
    "import numpy as np\n",
    "import matplotlib.pyplot as plt"
   ]
  },
  {
   "cell_type": "code",
   "execution_count": 2,
   "metadata": {},
   "outputs": [],
   "source": [
    "from sklearn.linear_model import LinearRegression\n",
    "from sklearn.linear_model import LogisticRegression"
   ]
  },
  {
   "cell_type": "code",
   "execution_count": 3,
   "metadata": {},
   "outputs": [],
   "source": [
    "bike = pd.read_csv (\"30th April.csv\")"
   ]
  },
  {
   "cell_type": "code",
   "execution_count": 6,
   "metadata": {},
   "outputs": [
    {
     "data": {
      "text/html": [
       "<div>\n",
       "<style scoped>\n",
       "    .dataframe tbody tr th:only-of-type {\n",
       "        vertical-align: middle;\n",
       "    }\n",
       "\n",
       "    .dataframe tbody tr th {\n",
       "        vertical-align: top;\n",
       "    }\n",
       "\n",
       "    .dataframe thead th {\n",
       "        text-align: right;\n",
       "    }\n",
       "</style>\n",
       "<table border=\"1\" class=\"dataframe\">\n",
       "  <thead>\n",
       "    <tr style=\"text-align: right;\">\n",
       "      <th></th>\n",
       "      <th>Location</th>\n",
       "      <th>wkday_ct</th>\n",
       "      <th>wkend_ct</th>\n",
       "      <th>Trips</th>\n",
       "      <th>TrafDir</th>\n",
       "      <th>BikeInfra</th>\n",
       "      <th>SegNum</th>\n",
       "      <th>StLength</th>\n",
       "      <th>Rd_Wd</th>\n",
       "      <th>Ld_CR</th>\n",
       "      <th>Ld_IM</th>\n",
       "      <th>Ld_M</th>\n",
       "      <th>Ld_OS</th>\n",
       "      <th>Ld_R</th>\n",
       "      <th>Ld_U</th>\n",
       "      <th>pop_dens</th>\n",
       "      <th>AMI</th>\n",
       "      <th>Tdir</th>\n",
       "    </tr>\n",
       "  </thead>\n",
       "  <tbody>\n",
       "    <tr>\n",
       "      <th>0</th>\n",
       "      <td>49 Ave</td>\n",
       "      <td>139</td>\n",
       "      <td>120</td>\n",
       "      <td>259</td>\n",
       "      <td>W</td>\n",
       "      <td>0</td>\n",
       "      <td>30</td>\n",
       "      <td>10891</td>\n",
       "      <td>60</td>\n",
       "      <td>0</td>\n",
       "      <td>0</td>\n",
       "      <td>0</td>\n",
       "      <td>0</td>\n",
       "      <td>0</td>\n",
       "      <td>0</td>\n",
       "      <td>17</td>\n",
       "      <td>129806</td>\n",
       "      <td>0</td>\n",
       "    </tr>\n",
       "    <tr>\n",
       "      <th>1</th>\n",
       "      <td>46 Rd</td>\n",
       "      <td>95</td>\n",
       "      <td>73</td>\n",
       "      <td>168</td>\n",
       "      <td>W</td>\n",
       "      <td>0</td>\n",
       "      <td>20</td>\n",
       "      <td>7364</td>\n",
       "      <td>60</td>\n",
       "      <td>0</td>\n",
       "      <td>0</td>\n",
       "      <td>0</td>\n",
       "      <td>0</td>\n",
       "      <td>0</td>\n",
       "      <td>0</td>\n",
       "      <td>9</td>\n",
       "      <td>117380</td>\n",
       "      <td>0</td>\n",
       "    </tr>\n",
       "    <tr>\n",
       "      <th>2</th>\n",
       "      <td>44 Rd</td>\n",
       "      <td>24</td>\n",
       "      <td>12</td>\n",
       "      <td>36</td>\n",
       "      <td>A</td>\n",
       "      <td>0</td>\n",
       "      <td>9</td>\n",
       "      <td>2792</td>\n",
       "      <td>60</td>\n",
       "      <td>0</td>\n",
       "      <td>0</td>\n",
       "      <td>0</td>\n",
       "      <td>0</td>\n",
       "      <td>0</td>\n",
       "      <td>0</td>\n",
       "      <td>3</td>\n",
       "      <td>123250</td>\n",
       "      <td>0</td>\n",
       "    </tr>\n",
       "    <tr>\n",
       "      <th>3</th>\n",
       "      <td>Vernon Blvd</td>\n",
       "      <td>873</td>\n",
       "      <td>566</td>\n",
       "      <td>1439</td>\n",
       "      <td>T</td>\n",
       "      <td>1</td>\n",
       "      <td>79</td>\n",
       "      <td>18112</td>\n",
       "      <td>75</td>\n",
       "      <td>0</td>\n",
       "      <td>0</td>\n",
       "      <td>0</td>\n",
       "      <td>0</td>\n",
       "      <td>0</td>\n",
       "      <td>1</td>\n",
       "      <td>8</td>\n",
       "      <td>33864</td>\n",
       "      <td>1</td>\n",
       "    </tr>\n",
       "    <tr>\n",
       "      <th>4</th>\n",
       "      <td>Broadway (1)</td>\n",
       "      <td>1385</td>\n",
       "      <td>1303</td>\n",
       "      <td>2688</td>\n",
       "      <td>T</td>\n",
       "      <td>0</td>\n",
       "      <td>145</td>\n",
       "      <td>24855</td>\n",
       "      <td>80</td>\n",
       "      <td>1</td>\n",
       "      <td>0</td>\n",
       "      <td>0</td>\n",
       "      <td>0</td>\n",
       "      <td>0</td>\n",
       "      <td>0</td>\n",
       "      <td>17</td>\n",
       "      <td>67085</td>\n",
       "      <td>1</td>\n",
       "    </tr>\n",
       "  </tbody>\n",
       "</table>\n",
       "</div>"
      ],
      "text/plain": [
       "       Location  wkday_ct  wkend_ct  Trips TrafDir  BikeInfra  SegNum  \\\n",
       "0        49 Ave       139       120    259       W          0      30   \n",
       "1         46 Rd        95        73    168       W          0      20   \n",
       "2         44 Rd        24        12     36       A          0       9   \n",
       "3   Vernon Blvd       873       566   1439       T          1      79   \n",
       "4  Broadway (1)      1385      1303   2688       T          0     145   \n",
       "\n",
       "   StLength  Rd_Wd  Ld_CR  Ld_IM  Ld_M  Ld_OS  Ld_R  Ld_U  pop_dens     AMI  \\\n",
       "0     10891     60      0      0     0      0     0     0        17  129806   \n",
       "1      7364     60      0      0     0      0     0     0         9  117380   \n",
       "2      2792     60      0      0     0      0     0     0         3  123250   \n",
       "3     18112     75      0      0     0      0     0     1         8   33864   \n",
       "4     24855     80      1      0     0      0     0     0        17   67085   \n",
       "\n",
       "   Tdir  \n",
       "0     0  \n",
       "1     0  \n",
       "2     0  \n",
       "3     1  \n",
       "4     1  "
      ]
     },
     "execution_count": 6,
     "metadata": {},
     "output_type": "execute_result"
    }
   ],
   "source": [
    "bike.head()"
   ]
  },
  {
   "cell_type": "code",
   "execution_count": 5,
   "metadata": {},
   "outputs": [],
   "source": [
    "bike ['Tdir'] = bike ['TrafDir'].map ({'W':0, 'A':0, 'T':1})"
   ]
  },
  {
   "cell_type": "code",
   "execution_count": 7,
   "metadata": {},
   "outputs": [],
   "source": [
    "from sklearn.model_selection import train_test_split"
   ]
  },
  {
   "cell_type": "code",
   "execution_count": 8,
   "metadata": {},
   "outputs": [],
   "source": [
    "X = np.asarray(bike[['SegNum', 'Ld_CR', 'pop_dens', 'BikeInfra', 'Tdir']])\n",
    "Y = np.asarray(bike['Trips'])"
   ]
  },
  {
   "cell_type": "code",
   "execution_count": 9,
   "metadata": {},
   "outputs": [],
   "source": [
    "X_train, X_test, y_train, y_test = train_test_split(X, Y, test_size=0.33, shuffle= True)"
   ]
  },
  {
   "cell_type": "code",
   "execution_count": 10,
   "metadata": {},
   "outputs": [],
   "source": [
    "lineReg = LinearRegression()"
   ]
  },
  {
   "cell_type": "code",
   "execution_count": 11,
   "metadata": {},
   "outputs": [
    {
     "data": {
      "text/plain": [
       "LinearRegression(copy_X=True, fit_intercept=True, n_jobs=1, normalize=False)"
      ]
     },
     "execution_count": 11,
     "metadata": {},
     "output_type": "execute_result"
    }
   ],
   "source": [
    "lineReg.fit(X,Y)"
   ]
  },
  {
   "cell_type": "code",
   "execution_count": 12,
   "metadata": {},
   "outputs": [
    {
     "name": "stdout",
     "output_type": "stream",
     "text": [
      "Intercept:  0.34154683297354405\n",
      "Coefficients:  [  2.32906957 776.45622638   5.95755051 389.81899911 192.84480747]\n"
     ]
    }
   ],
   "source": [
    "print('Intercept: ', lineReg.score(X, Y))\n",
    "print('Coefficients: ', lineReg.coef_)"
   ]
  },
  {
   "cell_type": "code",
   "execution_count": 13,
   "metadata": {},
   "outputs": [],
   "source": [
    "results = lineReg.fit(X_train, y_train)"
   ]
  },
  {
   "cell_type": "code",
   "execution_count": 14,
   "metadata": {},
   "outputs": [
    {
     "data": {
      "text/plain": [
       "0.5760711655445732"
      ]
     },
     "execution_count": 14,
     "metadata": {},
     "output_type": "execute_result"
    }
   ],
   "source": [
    "lineReg.score(X_train,y_train)"
   ]
  },
  {
   "cell_type": "code",
   "execution_count": 15,
   "metadata": {},
   "outputs": [
    {
     "data": {
      "image/png": "[encoded data removed]",
      "text/plain": [
       "<Figure size 432x288 with 1 Axes>"
      ]
     },
     "metadata": {
      "needs_background": "light"
     },
     "output_type": "display_data"
    }
   ],
   "source": [
    "plt.plot(lineReg.predict(X_test), c= 'red', label = 'Predicted Counts' )\n",
    "plt.plot(y_test, c= 'green')\n",
    "plt.show()"
   ]
  },
  {
   "cell_type": "code",
   "execution_count": 16,
   "metadata": {},
   "outputs": [
    {
     "name": "stdout",
     "output_type": "stream",
     "text": [
      "[ 9.23145520e+02 -4.47599076e+01  5.34853326e+02  1.33765953e+03\n",
      "  5.47766143e+02  6.62381722e+01  7.72755451e+02  1.10932538e+02\n",
      "  1.42224534e+02  1.91749914e+02 -4.77948629e+01  5.64609654e+02\n",
      "  3.45838801e+02  1.82965153e+02  5.23845701e+02  1.27208211e+03\n",
      "  2.30309192e+02  1.85017014e+03  2.97089768e+01  1.42224534e+02\n",
      "  1.56802654e+03  7.66149283e+02  2.62691858e+02  3.54024875e+02\n",
      "  4.82251467e+02  1.19710062e+03  3.05483464e+02  2.41894600e+02\n",
      "  6.66820261e+02 -9.63429592e-01  2.96592002e+02  1.07192195e+02]\n"
     ]
    }
   ],
   "source": [
    "print (lineReg.predict(X_test))"
   ]
  },
  {
   "cell_type": "markdown",
   "metadata": {},
   "source": [
    "# Ridge Regression"
   ]
  },
  {
   "cell_type": "code",
   "execution_count": 17,
   "metadata": {},
   "outputs": [],
   "source": [
    "from sklearn import linear_model\n",
    "reg = linear_model.Ridge (alpha = 0.05)\n"
   ]
  },
  {
   "cell_type": "code",
   "execution_count": 18,
   "metadata": {},
   "outputs": [
    {
     "name": "stdout",
     "output_type": "stream",
     "text": [
      "Intercept:  -12.903187946166328\n",
      "Coefficients:  [   4.35184188 1369.52101499    4.96496459  441.61843919   98.9493032 ]\n"
     ]
    }
   ],
   "source": [
    "reg.fit(X_train, y_train)\n",
    "print('Intercept: ', reg.score(X_test, y_test))\n",
    "print('Coefficients: ', reg.coef_)\n"
   ]
  },
  {
   "cell_type": "code",
   "execution_count": 19,
   "metadata": {},
   "outputs": [
    {
     "data": {
      "text/plain": [
       "0.5759359573322385"
      ]
     },
     "execution_count": 19,
     "metadata": {},
     "output_type": "execute_result"
    }
   ],
   "source": [
    "reg.score(X_train,y_train)"
   ]
  },
  {
   "cell_type": "code",
   "execution_count": 20,
   "metadata": {},
   "outputs": [
    {
     "data": {
      "image/png": "[encoded data removed]",
      "text/plain": [
       "<Figure size 432x288 with 1 Axes>"
      ]
     },
     "metadata": {
      "needs_background": "light"
     },
     "output_type": "display_data"
    }
   ],
   "source": [
    "plt.plot(reg.predict(X_test), c= 'red', label = 'Predicted Counts')\n",
    "plt.plot(y_test, c= 'green')\n",
    "plt.show()"
   ]
  },
  {
   "cell_type": "markdown",
   "metadata": {},
   "source": [
    "# Lasso Regression"
   ]
  },
  {
   "cell_type": "code",
   "execution_count": 21,
   "metadata": {},
   "outputs": [],
   "source": [
    "from sklearn import linear_model\n",
    "lasso = linear_model.Lasso (alpha = 0.05)\n"
   ]
  },
  {
   "cell_type": "code",
   "execution_count": 22,
   "metadata": {},
   "outputs": [
    {
     "data": {
      "text/plain": [
       "Lasso(alpha=0.05, copy_X=True, fit_intercept=True, max_iter=1000,\n",
       "   normalize=False, positive=False, precompute=False, random_state=None,\n",
       "   selection='cyclic', tol=0.0001, warm_start=False)"
      ]
     },
     "execution_count": 22,
     "metadata": {},
     "output_type": "execute_result"
    }
   ],
   "source": [
    "lasso.fit(X,Y)\n"
   ]
  },
  {
   "cell_type": "code",
   "execution_count": 23,
   "metadata": {},
   "outputs": [
    {
     "name": "stdout",
     "output_type": "stream",
     "text": [
      "Intercept:  -3.763646802511298\n",
      "Coefficients:  [  2.32949977 774.95614113   5.95426704 389.27391055 192.48648939]\n"
     ]
    }
   ],
   "source": [
    "print('Intercept: ', lasso.score(X_test, y_test))\n",
    "print('Coefficients: ', lasso.coef_)\n"
   ]
  },
  {
   "cell_type": "code",
   "execution_count": 24,
   "metadata": {},
   "outputs": [
    {
     "data": {
      "image/png": "[encoded data removed]",
      "text/plain": [
       "<Figure size 432x288 with 1 Axes>"
      ]
     },
     "metadata": {
      "needs_background": "light"
     },
     "output_type": "display_data"
    }
   ],
   "source": [
    "plt.plot(lasso.predict(X_test), c= 'red', label = 'Predicted Counts')\n",
    "plt.plot(y_test, c= 'green')\n",
    "plt.show()"
   ]
  },
  {
   "cell_type": "code",
   "execution_count": 25,
   "metadata": {},
   "outputs": [
    {
     "data": {
      "text/plain": [
       "0.4577973309380308"
      ]
     },
     "execution_count": 25,
     "metadata": {},
     "output_type": "execute_result"
    }
   ],
   "source": [
    "lasso.score(X_train,y_train)"
   ]
  },
  {
   "cell_type": "markdown",
   "metadata": {},
   "source": [
    "# Checking with 1000 iterations"
   ]
  },
  {
   "cell_type": "code",
   "execution_count": 26,
   "metadata": {},
   "outputs": [
    {
     "name": "stdout",
     "output_type": "stream",
     "text": [
      "Linear Regression\n",
      "-0.1326006898039175\n",
      "[  2.33716022 726.52612607   5.82117187 388.05827334 178.56537604]\n"
     ]
    }
   ],
   "source": [
    "Intercept = []\n",
    "coefs = []\n",
    "for i in range(1000):\n",
    "    X_train, X_test, y_train, y_test = train_test_split(X, Y, test_size=0.33, shuffle= True)\n",
    "    lineReg = LinearRegression()\n",
    "    lineReg.fit(X_train, y_train)\n",
    "    Intercept.append(lineReg.score(X_test, y_test))\n",
    "    coefs.append(lineReg.coef_)\n",
    "print('Linear Regression')\n",
    "print(np.mean(Intercept))\n",
    "print(np.mean(coefs, axis=0))\n"
   ]
  },
  {
   "cell_type": "code",
   "execution_count": 27,
   "metadata": {},
   "outputs": [
    {
     "name": "stdout",
     "output_type": "stream",
     "text": [
      "\n",
      "Ridge Regression\n",
      "-0.08288992649621264\n",
      "[  2.33695295 724.23719415   5.97249291 372.67780483 181.3861651 ]\n"
     ]
    }
   ],
   "source": [
    "\n",
    "Intercept = []\n",
    "coefs = []\n",
    "for i in range(1000):\n",
    "    X_train, X_test, y_train, y_test = train_test_split(X, Y, test_size=0.33, shuffle= True)\n",
    "    lineReg = linear_model.Ridge (alpha = 0.05)\n",
    "    lineReg.fit(X_train, y_train)\n",
    "    Intercept.append(lineReg.score(X_test, y_test))\n",
    "    coefs.append(lineReg.coef_)\n",
    "print('\\nRidge Regression')\n",
    "print(np.mean(Intercept))\n",
    "print(np.mean(coefs, axis=0))"
   ]
  },
  {
   "cell_type": "code",
   "execution_count": null,
   "metadata": {},
   "outputs": [],
   "source": []
  }
 ],
 "metadata": {
  "kernelspec": {
   "display_name": "Python 3",
   "language": "python",
   "name": "python3"
  },
  "language_info": {
   "codemirror_mode": {
    "name": "ipython",
    "version": 3
   },
   "file_extension": ".py",
   "mimetype": "text/x-python",
   "name": "python",
   "nbconvert_exporter": "python",
   "pygments_lexer": "ipython3",
   "version": "3.7.0"
  }
 },
 "nbformat": 4,
 "nbformat_minor": 2
}
