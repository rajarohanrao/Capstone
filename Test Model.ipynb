{
 "cells": [
  {
   "cell_type": "code",
   "execution_count": 1,
   "metadata": {},
   "outputs": [],
   "source": [
    "import pandas as pd\n",
    "import numpy as np\n",
    "import matplotlib.pyplot as plt\n",
    "\n",
    "import statsmodels.api as sm\n",
    "from statsmodels.formula.api import ols"
   ]
  },
  {
   "cell_type": "code",
   "execution_count": 84,
   "metadata": {},
   "outputs": [],
   "source": [
    "import seaborn as sns\n",
    "sns.set()"
   ]
  },
  {
   "cell_type": "code",
   "execution_count": 3,
   "metadata": {},
   "outputs": [],
   "source": [
    "bike = pd.read_csv (\"TEST.csv\")"
   ]
  },
  {
   "cell_type": "code",
   "execution_count": 4,
   "metadata": {},
   "outputs": [
    {
     "data": {
      "text/html": [
       "<div>\n",
       "<style scoped>\n",
       "    .dataframe tbody tr th:only-of-type {\n",
       "        vertical-align: middle;\n",
       "    }\n",
       "\n",
       "    .dataframe tbody tr th {\n",
       "        vertical-align: top;\n",
       "    }\n",
       "\n",
       "    .dataframe thead th {\n",
       "        text-align: right;\n",
       "    }\n",
       "</style>\n",
       "<table border=\"1\" class=\"dataframe\">\n",
       "  <thead>\n",
       "    <tr style=\"text-align: right;\">\n",
       "      <th></th>\n",
       "      <th>wkday_ct</th>\n",
       "      <th>wkend_ct</th>\n",
       "      <th>TrafDir</th>\n",
       "      <th>BikeInfra</th>\n",
       "      <th>SegNum</th>\n",
       "      <th>StLength</th>\n",
       "      <th>Rd_Wd</th>\n",
       "    </tr>\n",
       "  </thead>\n",
       "  <tbody>\n",
       "    <tr>\n",
       "      <th>0</th>\n",
       "      <td>139</td>\n",
       "      <td>120</td>\n",
       "      <td>0</td>\n",
       "      <td>0</td>\n",
       "      <td>30</td>\n",
       "      <td>10891</td>\n",
       "      <td>60</td>\n",
       "    </tr>\n",
       "    <tr>\n",
       "      <th>1</th>\n",
       "      <td>95</td>\n",
       "      <td>73</td>\n",
       "      <td>0</td>\n",
       "      <td>0</td>\n",
       "      <td>20</td>\n",
       "      <td>7364</td>\n",
       "      <td>60</td>\n",
       "    </tr>\n",
       "    <tr>\n",
       "      <th>2</th>\n",
       "      <td>24</td>\n",
       "      <td>12</td>\n",
       "      <td>0</td>\n",
       "      <td>0</td>\n",
       "      <td>9</td>\n",
       "      <td>2792</td>\n",
       "      <td>60</td>\n",
       "    </tr>\n",
       "    <tr>\n",
       "      <th>3</th>\n",
       "      <td>873</td>\n",
       "      <td>566</td>\n",
       "      <td>1</td>\n",
       "      <td>1</td>\n",
       "      <td>79</td>\n",
       "      <td>18112</td>\n",
       "      <td>75</td>\n",
       "    </tr>\n",
       "    <tr>\n",
       "      <th>4</th>\n",
       "      <td>1385</td>\n",
       "      <td>1303</td>\n",
       "      <td>1</td>\n",
       "      <td>0</td>\n",
       "      <td>145</td>\n",
       "      <td>24855</td>\n",
       "      <td>80</td>\n",
       "    </tr>\n",
       "  </tbody>\n",
       "</table>\n",
       "</div>"
      ],
      "text/plain": [
       "   wkday_ct  wkend_ct  TrafDir  BikeInfra  SegNum  StLength  Rd_Wd\n",
       "0       139       120        0          0      30     10891     60\n",
       "1        95        73        0          0      20      7364     60\n",
       "2        24        12        0          0       9      2792     60\n",
       "3       873       566        1          1      79     18112     75\n",
       "4      1385      1303        1          0     145     24855     80"
      ]
     },
     "execution_count": 4,
     "metadata": {},
     "output_type": "execute_result"
    }
   ],
   "source": [
    "bike.head()"
   ]
  },
  {
   "cell_type": "code",
   "execution_count": 28,
   "metadata": {},
   "outputs": [],
   "source": [
    "corr1 = bike.corr()"
   ]
  },
  {
   "cell_type": "code",
   "execution_count": 29,
   "metadata": {},
   "outputs": [
    {
     "data": {
      "text/html": [
       "<div>\n",
       "<style scoped>\n",
       "    .dataframe tbody tr th:only-of-type {\n",
       "        vertical-align: middle;\n",
       "    }\n",
       "\n",
       "    .dataframe tbody tr th {\n",
       "        vertical-align: top;\n",
       "    }\n",
       "\n",
       "    .dataframe thead th {\n",
       "        text-align: right;\n",
       "    }\n",
       "</style>\n",
       "<table border=\"1\" class=\"dataframe\">\n",
       "  <thead>\n",
       "    <tr style=\"text-align: right;\">\n",
       "      <th></th>\n",
       "      <th>wkday_ct</th>\n",
       "      <th>wkend_ct</th>\n",
       "      <th>TrafDir</th>\n",
       "      <th>BikeInfra</th>\n",
       "      <th>SegNum</th>\n",
       "      <th>StLength</th>\n",
       "      <th>Rd_Wd</th>\n",
       "    </tr>\n",
       "  </thead>\n",
       "  <tbody>\n",
       "    <tr>\n",
       "      <th>wkday_ct</th>\n",
       "      <td>1.000000</td>\n",
       "      <td>0.946052</td>\n",
       "      <td>0.107876</td>\n",
       "      <td>0.292962</td>\n",
       "      <td>0.362279</td>\n",
       "      <td>0.273654</td>\n",
       "      <td>0.213285</td>\n",
       "    </tr>\n",
       "    <tr>\n",
       "      <th>wkend_ct</th>\n",
       "      <td>0.946052</td>\n",
       "      <td>1.000000</td>\n",
       "      <td>0.118139</td>\n",
       "      <td>0.202344</td>\n",
       "      <td>0.399161</td>\n",
       "      <td>0.281704</td>\n",
       "      <td>0.263906</td>\n",
       "    </tr>\n",
       "    <tr>\n",
       "      <th>TrafDir</th>\n",
       "      <td>0.107876</td>\n",
       "      <td>0.118139</td>\n",
       "      <td>1.000000</td>\n",
       "      <td>-0.138967</td>\n",
       "      <td>0.036725</td>\n",
       "      <td>0.038503</td>\n",
       "      <td>-0.127758</td>\n",
       "    </tr>\n",
       "    <tr>\n",
       "      <th>BikeInfra</th>\n",
       "      <td>0.292962</td>\n",
       "      <td>0.202344</td>\n",
       "      <td>-0.138967</td>\n",
       "      <td>1.000000</td>\n",
       "      <td>0.051552</td>\n",
       "      <td>0.075300</td>\n",
       "      <td>0.029144</td>\n",
       "    </tr>\n",
       "    <tr>\n",
       "      <th>SegNum</th>\n",
       "      <td>0.362279</td>\n",
       "      <td>0.399161</td>\n",
       "      <td>0.036725</td>\n",
       "      <td>0.051552</td>\n",
       "      <td>1.000000</td>\n",
       "      <td>0.926643</td>\n",
       "      <td>0.662078</td>\n",
       "    </tr>\n",
       "    <tr>\n",
       "      <th>StLength</th>\n",
       "      <td>0.273654</td>\n",
       "      <td>0.281704</td>\n",
       "      <td>0.038503</td>\n",
       "      <td>0.075300</td>\n",
       "      <td>0.926643</td>\n",
       "      <td>1.000000</td>\n",
       "      <td>0.503591</td>\n",
       "    </tr>\n",
       "    <tr>\n",
       "      <th>Rd_Wd</th>\n",
       "      <td>0.213285</td>\n",
       "      <td>0.263906</td>\n",
       "      <td>-0.127758</td>\n",
       "      <td>0.029144</td>\n",
       "      <td>0.662078</td>\n",
       "      <td>0.503591</td>\n",
       "      <td>1.000000</td>\n",
       "    </tr>\n",
       "  </tbody>\n",
       "</table>\n",
       "</div>"
      ],
      "text/plain": [
       "           wkday_ct  wkend_ct   TrafDir  BikeInfra    SegNum  StLength  \\\n",
       "wkday_ct   1.000000  0.946052  0.107876   0.292962  0.362279  0.273654   \n",
       "wkend_ct   0.946052  1.000000  0.118139   0.202344  0.399161  0.281704   \n",
       "TrafDir    0.107876  0.118139  1.000000  -0.138967  0.036725  0.038503   \n",
       "BikeInfra  0.292962  0.202344 -0.138967   1.000000  0.051552  0.075300   \n",
       "SegNum     0.362279  0.399161  0.036725   0.051552  1.000000  0.926643   \n",
       "StLength   0.273654  0.281704  0.038503   0.075300  0.926643  1.000000   \n",
       "Rd_Wd      0.213285  0.263906 -0.127758   0.029144  0.662078  0.503591   \n",
       "\n",
       "              Rd_Wd  \n",
       "wkday_ct   0.213285  \n",
       "wkend_ct   0.263906  \n",
       "TrafDir   -0.127758  \n",
       "BikeInfra  0.029144  \n",
       "SegNum     0.662078  \n",
       "StLength   0.503591  \n",
       "Rd_Wd      1.000000  "
      ]
     },
     "execution_count": 29,
     "metadata": {},
     "output_type": "execute_result"
    }
   ],
   "source": [
    "corr1"
   ]
  },
  {
   "cell_type": "code",
   "execution_count": 32,
   "metadata": {},
   "outputs": [
    {
     "data": {
      "text/plain": [
       "<matplotlib.axes._subplots.AxesSubplot at 0x27dae55d438>"
      ]
     },
     "execution_count": 32,
     "metadata": {},
     "output_type": "execute_result"
    },
    {
     "data": {
      "image/png": "[encoded data removed]",
      "text/plain": [
       "<Figure size 432x288 with 2 Axes>"
      ]
     },
     "metadata": {},
     "output_type": "display_data"
    }
   ],
   "source": [
    "sns.heatmap(corr1, linewidths=.5, cmap=\"YlGnBu\")"
   ]
  },
  {
   "cell_type": "code",
   "execution_count": 55,
   "metadata": {},
   "outputs": [],
   "source": [
    "#Weekday\n",
    "\n",
    "y = bike['wkday_ct']\n",
    "X = bike['Rd_Wd']"
   ]
  },
  {
   "cell_type": "code",
   "execution_count": 56,
   "metadata": {},
   "outputs": [
    {
     "data": {
      "text/html": [
       "<table class=\"simpletable\">\n",
       "<caption>OLS Regression Results</caption>\n",
       "<tr>\n",
       "  <th>Dep. Variable:</th>        <td>wkday_ct</td>     <th>  R-squared:         </th> <td>   0.045</td>\n",
       "</tr>\n",
       "<tr>\n",
       "  <th>Model:</th>                   <td>OLS</td>       <th>  Adj. R-squared:    </th> <td>   0.035</td>\n",
       "</tr>\n",
       "<tr>\n",
       "  <th>Method:</th>             <td>Least Squares</td>  <th>  F-statistic:       </th> <td>   4.480</td>\n",
       "</tr>\n",
       "<tr>\n",
       "  <th>Date:</th>             <td>Wed, 03 Apr 2019</td> <th>  Prob (F-statistic):</th>  <td>0.0369</td> \n",
       "</tr>\n",
       "<tr>\n",
       "  <th>Time:</th>                 <td>16:11:43</td>     <th>  Log-Likelihood:    </th> <td> -670.31</td>\n",
       "</tr>\n",
       "<tr>\n",
       "  <th>No. Observations:</th>      <td>    96</td>      <th>  AIC:               </th> <td>   1345.</td>\n",
       "</tr>\n",
       "<tr>\n",
       "  <th>Df Residuals:</th>          <td>    94</td>      <th>  BIC:               </th> <td>   1350.</td>\n",
       "</tr>\n",
       "<tr>\n",
       "  <th>Df Model:</th>              <td>     1</td>      <th>                     </th>     <td> </td>   \n",
       "</tr>\n",
       "<tr>\n",
       "  <th>Covariance Type:</th>      <td>nonrobust</td>    <th>                     </th>     <td> </td>   \n",
       "</tr>\n",
       "</table>\n",
       "<table class=\"simpletable\">\n",
       "<tr>\n",
       "    <td></td>       <th>coef</th>     <th>std err</th>      <th>t</th>      <th>P>|t|</th>  <th>[0.025</th>    <th>0.975]</th>  \n",
       "</tr>\n",
       "<tr>\n",
       "  <th>const</th> <td>   57.5699</td> <td>   78.458</td> <td>    0.734</td> <td> 0.465</td> <td>  -98.210</td> <td>  213.350</td>\n",
       "</tr>\n",
       "<tr>\n",
       "  <th>Rd_Wd</th> <td>    1.9984</td> <td>    0.944</td> <td>    2.117</td> <td> 0.037</td> <td>    0.124</td> <td>    3.873</td>\n",
       "</tr>\n",
       "</table>\n",
       "<table class=\"simpletable\">\n",
       "<tr>\n",
       "  <th>Omnibus:</th>       <td>59.532</td> <th>  Durbin-Watson:     </th> <td>   1.393</td>\n",
       "</tr>\n",
       "<tr>\n",
       "  <th>Prob(Omnibus):</th> <td> 0.000</td> <th>  Jarque-Bera (JB):  </th> <td> 192.586</td>\n",
       "</tr>\n",
       "<tr>\n",
       "  <th>Skew:</th>          <td> 2.249</td> <th>  Prob(JB):          </th> <td>1.52e-42</td>\n",
       "</tr>\n",
       "<tr>\n",
       "  <th>Kurtosis:</th>      <td> 8.283</td> <th>  Cond. No.          </th> <td>    242.</td>\n",
       "</tr>\n",
       "</table><br/><br/>Warnings:<br/>[1] Standard Errors assume that the covariance matrix of the errors is correctly specified."
      ],
      "text/plain": [
       "<class 'statsmodels.iolib.summary.Summary'>\n",
       "\"\"\"\n",
       "                            OLS Regression Results                            \n",
       "==============================================================================\n",
       "Dep. Variable:               wkday_ct   R-squared:                       0.045\n",
       "Model:                            OLS   Adj. R-squared:                  0.035\n",
       "Method:                 Least Squares   F-statistic:                     4.480\n",
       "Date:                Wed, 03 Apr 2019   Prob (F-statistic):             0.0369\n",
       "Time:                        16:11:43   Log-Likelihood:                -670.31\n",
       "No. Observations:                  96   AIC:                             1345.\n",
       "Df Residuals:                      94   BIC:                             1350.\n",
       "Df Model:                           1                                         \n",
       "Covariance Type:            nonrobust                                         \n",
       "==============================================================================\n",
       "                 coef    std err          t      P>|t|      [0.025      0.975]\n",
       "------------------------------------------------------------------------------\n",
       "const         57.5699     78.458      0.734      0.465     -98.210     213.350\n",
       "Rd_Wd          1.9984      0.944      2.117      0.037       0.124       3.873\n",
       "==============================================================================\n",
       "Omnibus:                       59.532   Durbin-Watson:                   1.393\n",
       "Prob(Omnibus):                  0.000   Jarque-Bera (JB):              192.586\n",
       "Skew:                           2.249   Prob(JB):                     1.52e-42\n",
       "Kurtosis:                       8.283   Cond. No.                         242.\n",
       "==============================================================================\n",
       "\n",
       "Warnings:\n",
       "[1] Standard Errors assume that the covariance matrix of the errors is correctly specified.\n",
       "\"\"\""
      ]
     },
     "execution_count": 56,
     "metadata": {},
     "output_type": "execute_result"
    }
   ],
   "source": [
    "x = sm.add_constant(X)\n",
    "results = sm.OLS(y,x).fit()\n",
    "results.summary()"
   ]
  },
  {
   "cell_type": "code",
   "execution_count": 57,
   "metadata": {},
   "outputs": [
    {
     "data": {
      "image/png": "[encoded data removed]",
      "text/plain": [
       "<Figure size 432x288 with 1 Axes>"
      ]
     },
     "metadata": {},
     "output_type": "display_data"
    }
   ],
   "source": [
    "#Weekday\n",
    "plt.scatter(X,y) \n",
    "reg = 57.56+1.99*X\n",
    "fig = plt.plot (x, reg, lw = 4, c = 'orange', label = 'Regression Line')\n",
    "plt.xlabel ('Road Width',fontsize = 15)\n",
    "plt.ylabel ('Weekday Trips',fontsize = 16)\n",
    "plt.show()"
   ]
  },
  {
   "cell_type": "code",
   "execution_count": 58,
   "metadata": {},
   "outputs": [],
   "source": [
    "import seaborn as sns\n",
    "sns.set (style = \"whitegrid\")"
   ]
  },
  {
   "cell_type": "code",
   "execution_count": 59,
   "metadata": {},
   "outputs": [],
   "source": [
    "#Weekend\n",
    "\n",
    "y1 = bike['wkend_ct']\n",
    "X1 = bike['Rd_Wd']"
   ]
  },
  {
   "cell_type": "code",
   "execution_count": 60,
   "metadata": {},
   "outputs": [
    {
     "data": {
      "text/html": [
       "<table class=\"simpletable\">\n",
       "<caption>OLS Regression Results</caption>\n",
       "<tr>\n",
       "  <th>Dep. Variable:</th>        <td>wkend_ct</td>     <th>  R-squared:         </th> <td>   0.070</td>\n",
       "</tr>\n",
       "<tr>\n",
       "  <th>Model:</th>                   <td>OLS</td>       <th>  Adj. R-squared:    </th> <td>   0.060</td>\n",
       "</tr>\n",
       "<tr>\n",
       "  <th>Method:</th>             <td>Least Squares</td>  <th>  F-statistic:       </th> <td>   7.037</td>\n",
       "</tr>\n",
       "<tr>\n",
       "  <th>Date:</th>             <td>Wed, 03 Apr 2019</td> <th>  Prob (F-statistic):</th>  <td>0.00937</td>\n",
       "</tr>\n",
       "<tr>\n",
       "  <th>Time:</th>                 <td>16:13:15</td>     <th>  Log-Likelihood:    </th> <td> -647.95</td>\n",
       "</tr>\n",
       "<tr>\n",
       "  <th>No. Observations:</th>      <td>    96</td>      <th>  AIC:               </th> <td>   1300.</td>\n",
       "</tr>\n",
       "<tr>\n",
       "  <th>Df Residuals:</th>          <td>    94</td>      <th>  BIC:               </th> <td>   1305.</td>\n",
       "</tr>\n",
       "<tr>\n",
       "  <th>Df Model:</th>              <td>     1</td>      <th>                     </th>     <td> </td>   \n",
       "</tr>\n",
       "<tr>\n",
       "  <th>Covariance Type:</th>      <td>nonrobust</td>    <th>                     </th>     <td> </td>   \n",
       "</tr>\n",
       "</table>\n",
       "<table class=\"simpletable\">\n",
       "<tr>\n",
       "    <td></td>       <th>coef</th>     <th>std err</th>      <th>t</th>      <th>P>|t|</th>  <th>[0.025</th>    <th>0.975]</th>  \n",
       "</tr>\n",
       "<tr>\n",
       "  <th>const</th> <td>   20.7454</td> <td>   62.154</td> <td>    0.334</td> <td> 0.739</td> <td> -102.663</td> <td>  144.154</td>\n",
       "</tr>\n",
       "<tr>\n",
       "  <th>Rd_Wd</th> <td>    1.9842</td> <td>    0.748</td> <td>    2.653</td> <td> 0.009</td> <td>    0.499</td> <td>    3.469</td>\n",
       "</tr>\n",
       "</table>\n",
       "<table class=\"simpletable\">\n",
       "<tr>\n",
       "  <th>Omnibus:</th>       <td>74.744</td> <th>  Durbin-Watson:     </th> <td>   1.127</td>\n",
       "</tr>\n",
       "<tr>\n",
       "  <th>Prob(Omnibus):</th> <td> 0.000</td> <th>  Jarque-Bera (JB):  </th> <td> 425.638</td>\n",
       "</tr>\n",
       "<tr>\n",
       "  <th>Skew:</th>          <td> 2.600</td> <th>  Prob(JB):          </th> <td>3.75e-93</td>\n",
       "</tr>\n",
       "<tr>\n",
       "  <th>Kurtosis:</th>      <td>11.908</td> <th>  Cond. No.          </th> <td>    242.</td>\n",
       "</tr>\n",
       "</table><br/><br/>Warnings:<br/>[1] Standard Errors assume that the covariance matrix of the errors is correctly specified."
      ],
      "text/plain": [
       "<class 'statsmodels.iolib.summary.Summary'>\n",
       "\"\"\"\n",
       "                            OLS Regression Results                            \n",
       "==============================================================================\n",
       "Dep. Variable:               wkend_ct   R-squared:                       0.070\n",
       "Model:                            OLS   Adj. R-squared:                  0.060\n",
       "Method:                 Least Squares   F-statistic:                     7.037\n",
       "Date:                Wed, 03 Apr 2019   Prob (F-statistic):            0.00937\n",
       "Time:                        16:13:15   Log-Likelihood:                -647.95\n",
       "No. Observations:                  96   AIC:                             1300.\n",
       "Df Residuals:                      94   BIC:                             1305.\n",
       "Df Model:                           1                                         \n",
       "Covariance Type:            nonrobust                                         \n",
       "==============================================================================\n",
       "                 coef    std err          t      P>|t|      [0.025      0.975]\n",
       "------------------------------------------------------------------------------\n",
       "const         20.7454     62.154      0.334      0.739    -102.663     144.154\n",
       "Rd_Wd          1.9842      0.748      2.653      0.009       0.499       3.469\n",
       "==============================================================================\n",
       "Omnibus:                       74.744   Durbin-Watson:                   1.127\n",
       "Prob(Omnibus):                  0.000   Jarque-Bera (JB):              425.638\n",
       "Skew:                           2.600   Prob(JB):                     3.75e-93\n",
       "Kurtosis:                      11.908   Cond. No.                         242.\n",
       "==============================================================================\n",
       "\n",
       "Warnings:\n",
       "[1] Standard Errors assume that the covariance matrix of the errors is correctly specified.\n",
       "\"\"\""
      ]
     },
     "execution_count": 60,
     "metadata": {},
     "output_type": "execute_result"
    }
   ],
   "source": [
    "x1 = sm.add_constant(X1)\n",
    "results = sm.OLS(y1,x1).fit()\n",
    "results.summary()"
   ]
  },
  {
   "cell_type": "code",
   "execution_count": 61,
   "metadata": {},
   "outputs": [
    {
     "data": {
      "image/png": "[encoded data removed]",
      "text/plain": [
       "<Figure size 432x288 with 1 Axes>"
      ]
     },
     "metadata": {},
     "output_type": "display_data"
    }
   ],
   "source": [
    "#Weekend\n",
    "plt.scatter(X1,y1) \n",
    "reg1 = 20.74+ 1.98*X1\n",
    "fig = plt.plot (x1, reg1, lw = 4, c = 'red', label = 'Regression Line')\n",
    "plt.xlabel ('Road Width',fontsize = 15)\n",
    "plt.ylabel ('Weekend Trips',fontsize = 16)\n",
    "plt.show()"
   ]
  },
  {
   "cell_type": "markdown",
   "metadata": {},
   "source": [
    "# Multiple Regression"
   ]
  },
  {
   "cell_type": "code",
   "execution_count": 62,
   "metadata": {},
   "outputs": [],
   "source": [
    "#Weekday\n",
    "\n",
    "y2 = bike['wkday_ct']\n",
    "X2 = bike[['SegNum', 'StLength','BikeInfra', 'Rd_Wd']]"
   ]
  },
  {
   "cell_type": "code",
   "execution_count": 63,
   "metadata": {},
   "outputs": [
    {
     "data": {
      "text/html": [
       "<table class=\"simpletable\">\n",
       "<caption>OLS Regression Results</caption>\n",
       "<tr>\n",
       "  <th>Dep. Variable:</th>        <td>wkday_ct</td>     <th>  R-squared:         </th> <td>   0.254</td>\n",
       "</tr>\n",
       "<tr>\n",
       "  <th>Model:</th>                   <td>OLS</td>       <th>  Adj. R-squared:    </th> <td>   0.222</td>\n",
       "</tr>\n",
       "<tr>\n",
       "  <th>Method:</th>             <td>Least Squares</td>  <th>  F-statistic:       </th> <td>   7.765</td>\n",
       "</tr>\n",
       "<tr>\n",
       "  <th>Date:</th>             <td>Wed, 03 Apr 2019</td> <th>  Prob (F-statistic):</th> <td>1.98e-05</td>\n",
       "</tr>\n",
       "<tr>\n",
       "  <th>Time:</th>                 <td>16:14:49</td>     <th>  Log-Likelihood:    </th> <td> -658.45</td>\n",
       "</tr>\n",
       "<tr>\n",
       "  <th>No. Observations:</th>      <td>    96</td>      <th>  AIC:               </th> <td>   1327.</td>\n",
       "</tr>\n",
       "<tr>\n",
       "  <th>Df Residuals:</th>          <td>    91</td>      <th>  BIC:               </th> <td>   1340.</td>\n",
       "</tr>\n",
       "<tr>\n",
       "  <th>Df Model:</th>              <td>     4</td>      <th>                     </th>     <td> </td>   \n",
       "</tr>\n",
       "<tr>\n",
       "  <th>Covariance Type:</th>      <td>nonrobust</td>    <th>                     </th>     <td> </td>   \n",
       "</tr>\n",
       "</table>\n",
       "<table class=\"simpletable\">\n",
       "<tr>\n",
       "      <td></td>         <th>coef</th>     <th>std err</th>      <th>t</th>      <th>P>|t|</th>  <th>[0.025</th>    <th>0.975]</th>  \n",
       "</tr>\n",
       "<tr>\n",
       "  <th>const</th>     <td>  215.8882</td> <td>   89.545</td> <td>    2.411</td> <td> 0.018</td> <td>   38.018</td> <td>  393.758</td>\n",
       "</tr>\n",
       "<tr>\n",
       "  <th>SegNum</th>    <td>    4.0345</td> <td>    1.173</td> <td>    3.438</td> <td> 0.001</td> <td>    1.704</td> <td>    6.365</td>\n",
       "</tr>\n",
       "<tr>\n",
       "  <th>StLength</th>  <td>   -0.0127</td> <td>    0.005</td> <td>   -2.386</td> <td> 0.019</td> <td>   -0.023</td> <td>   -0.002</td>\n",
       "</tr>\n",
       "<tr>\n",
       "  <th>BikeInfra</th> <td>  220.3782</td> <td>   68.736</td> <td>    3.206</td> <td> 0.002</td> <td>   83.843</td> <td>  356.913</td>\n",
       "</tr>\n",
       "<tr>\n",
       "  <th>Rd_Wd</th>     <td>   -1.5667</td> <td>    1.229</td> <td>   -1.274</td> <td> 0.206</td> <td>   -4.009</td> <td>    0.875</td>\n",
       "</tr>\n",
       "</table>\n",
       "<table class=\"simpletable\">\n",
       "<tr>\n",
       "  <th>Omnibus:</th>       <td>39.080</td> <th>  Durbin-Watson:     </th> <td>   1.474</td>\n",
       "</tr>\n",
       "<tr>\n",
       "  <th>Prob(Omnibus):</th> <td> 0.000</td> <th>  Jarque-Bera (JB):  </th> <td> 101.480</td>\n",
       "</tr>\n",
       "<tr>\n",
       "  <th>Skew:</th>          <td> 1.451</td> <th>  Prob(JB):          </th> <td>9.20e-23</td>\n",
       "</tr>\n",
       "<tr>\n",
       "  <th>Kurtosis:</th>      <td> 7.117</td> <th>  Cond. No.          </th> <td>8.67e+04</td>\n",
       "</tr>\n",
       "</table><br/><br/>Warnings:<br/>[1] Standard Errors assume that the covariance matrix of the errors is correctly specified.<br/>[2] The condition number is large, 8.67e+04. This might indicate that there are<br/>strong multicollinearity or other numerical problems."
      ],
      "text/plain": [
       "<class 'statsmodels.iolib.summary.Summary'>\n",
       "\"\"\"\n",
       "                            OLS Regression Results                            \n",
       "==============================================================================\n",
       "Dep. Variable:               wkday_ct   R-squared:                       0.254\n",
       "Model:                            OLS   Adj. R-squared:                  0.222\n",
       "Method:                 Least Squares   F-statistic:                     7.765\n",
       "Date:                Wed, 03 Apr 2019   Prob (F-statistic):           1.98e-05\n",
       "Time:                        16:14:49   Log-Likelihood:                -658.45\n",
       "No. Observations:                  96   AIC:                             1327.\n",
       "Df Residuals:                      91   BIC:                             1340.\n",
       "Df Model:                           4                                         \n",
       "Covariance Type:            nonrobust                                         \n",
       "==============================================================================\n",
       "                 coef    std err          t      P>|t|      [0.025      0.975]\n",
       "------------------------------------------------------------------------------\n",
       "const        215.8882     89.545      2.411      0.018      38.018     393.758\n",
       "SegNum         4.0345      1.173      3.438      0.001       1.704       6.365\n",
       "StLength      -0.0127      0.005     -2.386      0.019      -0.023      -0.002\n",
       "BikeInfra    220.3782     68.736      3.206      0.002      83.843     356.913\n",
       "Rd_Wd         -1.5667      1.229     -1.274      0.206      -4.009       0.875\n",
       "==============================================================================\n",
       "Omnibus:                       39.080   Durbin-Watson:                   1.474\n",
       "Prob(Omnibus):                  0.000   Jarque-Bera (JB):              101.480\n",
       "Skew:                           1.451   Prob(JB):                     9.20e-23\n",
       "Kurtosis:                       7.117   Cond. No.                     8.67e+04\n",
       "==============================================================================\n",
       "\n",
       "Warnings:\n",
       "[1] Standard Errors assume that the covariance matrix of the errors is correctly specified.\n",
       "[2] The condition number is large, 8.67e+04. This might indicate that there are\n",
       "strong multicollinearity or other numerical problems.\n",
       "\"\"\""
      ]
     },
     "execution_count": 63,
     "metadata": {},
     "output_type": "execute_result"
    }
   ],
   "source": [
    "x2 = sm.add_constant(X2)\n",
    "results = sm.OLS(y2,x2).fit()\n",
    "results.summary()"
   ]
  },
  {
   "cell_type": "code",
   "execution_count": 65,
   "metadata": {},
   "outputs": [],
   "source": [
    "#Weekend\n",
    "\n",
    "y3 = bike['wkend_ct']\n",
    "X3 = bike[['SegNum', 'StLength','BikeInfra', 'Rd_Wd']]"
   ]
  },
  {
   "cell_type": "code",
   "execution_count": 67,
   "metadata": {},
   "outputs": [
    {
     "data": {
      "text/html": [
       "<table class=\"simpletable\">\n",
       "<caption>OLS Regression Results</caption>\n",
       "<tr>\n",
       "  <th>Dep. Variable:</th>        <td>wkend_ct</td>     <th>  R-squared:         </th> <td>   0.265</td>\n",
       "</tr>\n",
       "<tr>\n",
       "  <th>Model:</th>                   <td>OLS</td>       <th>  Adj. R-squared:    </th> <td>   0.233</td>\n",
       "</tr>\n",
       "<tr>\n",
       "  <th>Method:</th>             <td>Least Squares</td>  <th>  F-statistic:       </th> <td>   8.211</td>\n",
       "</tr>\n",
       "<tr>\n",
       "  <th>Date:</th>             <td>Wed, 03 Apr 2019</td> <th>  Prob (F-statistic):</th> <td>1.06e-05</td>\n",
       "</tr>\n",
       "<tr>\n",
       "  <th>Time:</th>                 <td>16:15:55</td>     <th>  Log-Likelihood:    </th> <td> -636.62</td>\n",
       "</tr>\n",
       "<tr>\n",
       "  <th>No. Observations:</th>      <td>    96</td>      <th>  AIC:               </th> <td>   1283.</td>\n",
       "</tr>\n",
       "<tr>\n",
       "  <th>Df Residuals:</th>          <td>    91</td>      <th>  BIC:               </th> <td>   1296.</td>\n",
       "</tr>\n",
       "<tr>\n",
       "  <th>Df Model:</th>              <td>     4</td>      <th>                     </th>     <td> </td>   \n",
       "</tr>\n",
       "<tr>\n",
       "  <th>Covariance Type:</th>      <td>nonrobust</td>    <th>                     </th>     <td> </td>   \n",
       "</tr>\n",
       "</table>\n",
       "<table class=\"simpletable\">\n",
       "<tr>\n",
       "      <td></td>         <th>coef</th>     <th>std err</th>      <th>t</th>      <th>P>|t|</th>  <th>[0.025</th>    <th>0.975]</th>  \n",
       "</tr>\n",
       "<tr>\n",
       "  <th>const</th>     <td>  180.0877</td> <td>   71.333</td> <td>    2.525</td> <td> 0.013</td> <td>   38.393</td> <td>  321.782</td>\n",
       "</tr>\n",
       "<tr>\n",
       "  <th>SegNum</th>    <td>    3.7847</td> <td>    0.935</td> <td>    4.049</td> <td> 0.000</td> <td>    1.928</td> <td>    5.641</td>\n",
       "</tr>\n",
       "<tr>\n",
       "  <th>StLength</th>  <td>   -0.0128</td> <td>    0.004</td> <td>   -3.002</td> <td> 0.003</td> <td>   -0.021</td> <td>   -0.004</td>\n",
       "</tr>\n",
       "<tr>\n",
       "  <th>BikeInfra</th> <td>  123.2045</td> <td>   54.756</td> <td>    2.250</td> <td> 0.027</td> <td>   14.438</td> <td>  231.971</td>\n",
       "</tr>\n",
       "<tr>\n",
       "  <th>Rd_Wd</th>     <td>   -1.1413</td> <td>    0.979</td> <td>   -1.165</td> <td> 0.247</td> <td>   -3.087</td> <td>    0.804</td>\n",
       "</tr>\n",
       "</table>\n",
       "<table class=\"simpletable\">\n",
       "<tr>\n",
       "  <th>Omnibus:</th>       <td>54.925</td> <th>  Durbin-Watson:     </th> <td>   1.242</td>\n",
       "</tr>\n",
       "<tr>\n",
       "  <th>Prob(Omnibus):</th> <td> 0.000</td> <th>  Jarque-Bera (JB):  </th> <td> 277.656</td>\n",
       "</tr>\n",
       "<tr>\n",
       "  <th>Skew:</th>          <td> 1.767</td> <th>  Prob(JB):          </th> <td>5.10e-61</td>\n",
       "</tr>\n",
       "<tr>\n",
       "  <th>Kurtosis:</th>      <td>10.544</td> <th>  Cond. No.          </th> <td>8.67e+04</td>\n",
       "</tr>\n",
       "</table><br/><br/>Warnings:<br/>[1] Standard Errors assume that the covariance matrix of the errors is correctly specified.<br/>[2] The condition number is large, 8.67e+04. This might indicate that there are<br/>strong multicollinearity or other numerical problems."
      ],
      "text/plain": [
       "<class 'statsmodels.iolib.summary.Summary'>\n",
       "\"\"\"\n",
       "                            OLS Regression Results                            \n",
       "==============================================================================\n",
       "Dep. Variable:               wkend_ct   R-squared:                       0.265\n",
       "Model:                            OLS   Adj. R-squared:                  0.233\n",
       "Method:                 Least Squares   F-statistic:                     8.211\n",
       "Date:                Wed, 03 Apr 2019   Prob (F-statistic):           1.06e-05\n",
       "Time:                        16:15:55   Log-Likelihood:                -636.62\n",
       "No. Observations:                  96   AIC:                             1283.\n",
       "Df Residuals:                      91   BIC:                             1296.\n",
       "Df Model:                           4                                         \n",
       "Covariance Type:            nonrobust                                         \n",
       "==============================================================================\n",
       "                 coef    std err          t      P>|t|      [0.025      0.975]\n",
       "------------------------------------------------------------------------------\n",
       "const        180.0877     71.333      2.525      0.013      38.393     321.782\n",
       "SegNum         3.7847      0.935      4.049      0.000       1.928       5.641\n",
       "StLength      -0.0128      0.004     -3.002      0.003      -0.021      -0.004\n",
       "BikeInfra    123.2045     54.756      2.250      0.027      14.438     231.971\n",
       "Rd_Wd         -1.1413      0.979     -1.165      0.247      -3.087       0.804\n",
       "==============================================================================\n",
       "Omnibus:                       54.925   Durbin-Watson:                   1.242\n",
       "Prob(Omnibus):                  0.000   Jarque-Bera (JB):              277.656\n",
       "Skew:                           1.767   Prob(JB):                     5.10e-61\n",
       "Kurtosis:                      10.544   Cond. No.                     8.67e+04\n",
       "==============================================================================\n",
       "\n",
       "Warnings:\n",
       "[1] Standard Errors assume that the covariance matrix of the errors is correctly specified.\n",
       "[2] The condition number is large, 8.67e+04. This might indicate that there are\n",
       "strong multicollinearity or other numerical problems.\n",
       "\"\"\""
      ]
     },
     "execution_count": 67,
     "metadata": {},
     "output_type": "execute_result"
    }
   ],
   "source": [
    "x3 = sm.add_constant(X3)\n",
    "results = sm.OLS(y3,x3).fit()\n",
    "results.summary()"
   ]
  },
  {
   "cell_type": "code",
   "execution_count": null,
   "metadata": {},
   "outputs": [],
   "source": []
  },
  {
   "cell_type": "code",
   "execution_count": 68,
   "metadata": {},
   "outputs": [],
   "source": [
    "from sklearn.model_selection import train_test_split"
   ]
  },
  {
   "cell_type": "code",
   "execution_count": 69,
   "metadata": {},
   "outputs": [],
   "source": [
    "X4 = bike[['SegNum', 'StLength', 'BikeInfra', 'Rd_Wd']]\n",
    "y4 = bike['wkday_ct']"
   ]
  },
  {
   "cell_type": "code",
   "execution_count": 70,
   "metadata": {},
   "outputs": [],
   "source": [
    "X4_train, X4_test, y4_train, y4_test = train_test_split(X4, y4, test_size=0.4, random_state=101)"
   ]
  },
  {
   "cell_type": "code",
   "execution_count": 78,
   "metadata": {},
   "outputs": [],
   "source": [
    "from sklearn.linear_model import LinearRegression"
   ]
  },
  {
   "cell_type": "code",
   "execution_count": 79,
   "metadata": {},
   "outputs": [],
   "source": [
    "lm = LinearRegression()"
   ]
  },
  {
   "cell_type": "code",
   "execution_count": 80,
   "metadata": {},
   "outputs": [
    {
     "data": {
      "text/plain": [
       "LinearRegression(copy_X=True, fit_intercept=True, n_jobs=1, normalize=False)"
      ]
     },
     "execution_count": 80,
     "metadata": {},
     "output_type": "execute_result"
    }
   ],
   "source": [
    "lm.fit(X4_train,y4_train)"
   ]
  },
  {
   "cell_type": "code",
   "execution_count": 81,
   "metadata": {},
   "outputs": [],
   "source": [
    "predictions = lm.predict(X4_test)"
   ]
  },
  {
   "cell_type": "code",
   "execution_count": 87,
   "metadata": {},
   "outputs": [
    {
     "data": {
      "image/png": "[encoded data removed]",
      "text/plain": [
       "<Figure size 432x288 with 1 Axes>"
      ]
     },
     "metadata": {},
     "output_type": "display_data"
    }
   ],
   "source": [
    "plt.scatter(y4_test,predictions, c = 'red')\n",
    "plt.xlabel ('Test_Weekday Counts',fontsize = 10)\n",
    "plt.ylabel ('X_test variables',fontsize = 10)\n",
    "plt.show()\n"
   ]
  },
  {
   "cell_type": "code",
   "execution_count": 83,
   "metadata": {},
   "outputs": [
    {
     "data": {
      "text/plain": [
       "array([133.81766271, 342.26059588,  32.20093542, 215.93838078,\n",
       "       288.23962118, 212.05677023,  65.36112115, 279.33785382,\n",
       "       267.10011928,  73.0133473 , 187.01661417, 249.72024712,\n",
       "       168.97208818, 392.1816936 , 277.08633569, 136.34720346,\n",
       "       277.08633569, 162.31820807, 339.83736457, 394.97427541,\n",
       "       152.34434259, 185.36366816, 127.64995917, 185.54785728,\n",
       "       277.08633569, 172.47154358, 160.16537376, 172.74915138,\n",
       "       344.94482779, 410.6527293 , 100.52488438, 173.63651444,\n",
       "       173.76167732, 145.31806772,  85.63431783, 187.26270739,\n",
       "       165.62827488, 120.03182462, 338.80360577])"
      ]
     },
     "execution_count": 83,
     "metadata": {},
     "output_type": "execute_result"
    }
   ],
   "source": [
    "predictions"
   ]
  }
 ],
 "metadata": {
  "kernelspec": {
   "display_name": "Python 3",
   "language": "python",
   "name": "python3"
  },
  "language_info": {
   "codemirror_mode": {
    "name": "ipython",
    "version": 3
   },
   "file_extension": ".py",
   "mimetype": "text/x-python",
   "name": "python",
   "nbconvert_exporter": "python",
   "pygments_lexer": "ipython3",
   "version": "3.7.0"
  }
 },
 "nbformat": 4,
 "nbformat_minor": 2
}
